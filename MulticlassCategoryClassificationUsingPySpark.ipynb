{
 "cells": [
  {
   "cell_type": "markdown",
   "id": "b4c375a8",
   "metadata": {},
   "source": [
    "# Same approach as in CNNs but using logistic regression from pyspark library"
   ]
  },
  {
   "cell_type": "code",
   "execution_count": 1,
   "id": "866b65e5",
   "metadata": {},
   "outputs": [],
   "source": [
    "import findspark\n",
    "\n",
    "findspark.init()\n",
    " "
   ]
  },
  {
   "cell_type": "code",
   "execution_count": 2,
   "id": "e06e1c28",
   "metadata": {},
   "outputs": [],
   "source": [
    "from pyspark import SparkContext"
   ]
  },
  {
   "cell_type": "code",
   "execution_count": 3,
   "id": "09d7577a",
   "metadata": {},
   "outputs": [
    {
     "name": "stderr",
     "output_type": "stream",
     "text": [
      "C:\\Users\\gprak\\anaconda3\\envs\\my36v2\\lib\\site-packages\\pyspark\\context.py:238: FutureWarning: Python 3.6 support is deprecated in Spark 3.2.\n",
      "  FutureWarning\n"
     ]
    }
   ],
   "source": [
    "sc = SparkContext(master=\"local[2]\")"
   ]
  },
  {
   "cell_type": "code",
   "execution_count": 4,
   "id": "4843d80b",
   "metadata": {},
   "outputs": [],
   "source": [
    "import pyspark\n",
    "\n",
    "from pyspark.sql import SparkSession\n",
    "\n",
    "# spark = SparkSession.builder.getOrCreate()\n",
    "\n",
    "# df = spark.sql(\"select 'spark' as hello \")\n",
    "\n",
    "# df.show()"
   ]
  },
  {
   "cell_type": "code",
   "execution_count": 5,
   "id": "8a2e38e0",
   "metadata": {},
   "outputs": [],
   "source": [
    "#sc = spark"
   ]
  },
  {
   "cell_type": "code",
   "execution_count": 6,
   "id": "f856a530",
   "metadata": {},
   "outputs": [
    {
     "data": {
      "text/html": [
       "\n",
       "        <div>\n",
       "            <p><b>SparkContext</b></p>\n",
       "\n",
       "            <p><a href=\"http://host.docker.internal:4041\">Spark UI</a></p>\n",
       "\n",
       "            <dl>\n",
       "              <dt>Version</dt>\n",
       "                <dd><code>v3.2.0</code></dd>\n",
       "              <dt>Master</dt>\n",
       "                <dd><code>local[2]</code></dd>\n",
       "              <dt>AppName</dt>\n",
       "                <dd><code>pyspark-shell</code></dd>\n",
       "            </dl>\n",
       "        </div>\n",
       "        "
      ],
      "text/plain": [
       "<SparkContext master=local[2] appName=pyspark-shell>"
      ]
     },
     "execution_count": 6,
     "metadata": {},
     "output_type": "execute_result"
    }
   ],
   "source": [
    "sc"
   ]
  },
  {
   "cell_type": "code",
   "execution_count": 7,
   "id": "d2d9fc6a",
   "metadata": {},
   "outputs": [],
   "source": [
    "spark = SparkSession.builder.appName(\"TextClassifierApp\").getOrCreate()"
   ]
  },
  {
   "cell_type": "code",
   "execution_count": 8,
   "id": "670ea559",
   "metadata": {},
   "outputs": [],
   "source": [
    "\n",
    "df = spark.read.csv('../Zycus/86b13d9a4b8e11ec/project/training_data.csv',header=True,inferSchema=True)\n"
   ]
  },
  {
   "cell_type": "code",
   "execution_count": 9,
   "id": "fa48d379",
   "metadata": {},
   "outputs": [
    {
     "name": "stdout",
     "output_type": "stream",
     "text": [
      "+--------------------+--------------------+\n",
      "|               title|            category|\n",
      "+--------------------+--------------------+\n",
      "|    The Three Amigos|                None|\n",
      "|Home Essentials B...|      Home & Kitchen|\n",
      "|Cooper Wiring Qui...|Tools & Home Impr...|\n",
      "|Baseboarders&reg;...|Tools & Home Impr...|\n",
      "|The Great Wave Of...|     Office Products|\n",
      "|Nemcor Pittsburgh...|      Home & Kitchen|\n",
      "|Patrician Berkley...|                None|\n",
      "|SouvNear 81461402...|                None|\n",
      "|20 Qty. Halco 50W...|Tools & Home Impr...|\n",
      "|      Rilakkuma Bowl|                None|\n",
      "|Redbirdlinen 1pc ...|      Home & Kitchen|\n",
      "|Hospital Bath Tow...|      Home & Kitchen|\n",
      "|Symphony in Red a...|      Home & Kitchen|\n",
      "|Big Train BLENDED...|Grocery & Gourmet...|\n",
      "|Surpahs Round 11 ...|      Home & Kitchen|\n",
      "|Mikasa Love Story...|                None|\n",
      "|180 Snacks Nutty ...|                None|\n",
      "|Anti-Slip Handle ...|      Home & Kitchen|\n",
      "|Imagine Thicket G...|                None|\n",
      "|KOHLER K-3754-96 ...|                None|\n",
      "+--------------------+--------------------+\n",
      "only showing top 20 rows\n",
      "\n"
     ]
    }
   ],
   "source": [
    "df.show()"
   ]
  },
  {
   "cell_type": "code",
   "execution_count": 10,
   "id": "803dddf1",
   "metadata": {},
   "outputs": [
    {
     "data": {
      "text/plain": [
       "['title', 'category']"
      ]
     },
     "execution_count": 10,
     "metadata": {},
     "output_type": "execute_result"
    }
   ],
   "source": [
    "df.columns"
   ]
  },
  {
   "cell_type": "code",
   "execution_count": 11,
   "id": "5d4a4cab",
   "metadata": {},
   "outputs": [],
   "source": [
    "#df=df.dropna()"
   ]
  },
  {
   "cell_type": "code",
   "execution_count": 12,
   "id": "f1efc16a",
   "metadata": {},
   "outputs": [
    {
     "data": {
      "text/plain": [
       "['title', 'category']"
      ]
     },
     "execution_count": 12,
     "metadata": {},
     "output_type": "execute_result"
    }
   ],
   "source": [
    "df.columns"
   ]
  },
  {
   "cell_type": "code",
   "execution_count": 13,
   "id": "ab4b7687",
   "metadata": {},
   "outputs": [],
   "source": [
    "import pyspark.ml.feature"
   ]
  },
  {
   "cell_type": "code",
   "execution_count": 14,
   "id": "2102b10a",
   "metadata": {},
   "outputs": [
    {
     "data": {
      "text/plain": [
       "['Binarizer',\n",
       " 'BucketedRandomProjectionLSH',\n",
       " 'BucketedRandomProjectionLSHModel',\n",
       " 'Bucketizer',\n",
       " 'ChiSqSelector',\n",
       " 'ChiSqSelectorModel',\n",
       " 'CountVectorizer',\n",
       " 'CountVectorizerModel',\n",
       " 'DCT',\n",
       " 'ElementwiseProduct',\n",
       " 'FeatureHasher',\n",
       " 'HasFeaturesCol',\n",
       " 'HasHandleInvalid',\n",
       " 'HasInputCol',\n",
       " 'HasInputCols',\n",
       " 'HasLabelCol',\n",
       " 'HasMaxIter',\n",
       " 'HasNumFeatures',\n",
       " 'HasOutputCol',\n",
       " 'HasOutputCols',\n",
       " 'HasRelativeError',\n",
       " 'HasSeed',\n",
       " 'HasStepSize',\n",
       " 'HasThreshold',\n",
       " 'HasThresholds',\n",
       " 'HashingTF',\n",
       " 'IDF',\n",
       " 'IDFModel',\n",
       " 'Imputer',\n",
       " 'ImputerModel',\n",
       " 'IndexToString',\n",
       " 'Interaction',\n",
       " 'JavaEstimator',\n",
       " 'JavaMLReadable',\n",
       " 'JavaMLWritable',\n",
       " 'JavaModel',\n",
       " 'JavaParams',\n",
       " 'JavaTransformer',\n",
       " 'MaxAbsScaler',\n",
       " 'MaxAbsScalerModel',\n",
       " 'MinHashLSH',\n",
       " 'MinHashLSHModel',\n",
       " 'MinMaxScaler',\n",
       " 'MinMaxScalerModel',\n",
       " 'NGram',\n",
       " 'Normalizer',\n",
       " 'OneHotEncoder',\n",
       " 'OneHotEncoderModel',\n",
       " 'PCA',\n",
       " 'PCAModel',\n",
       " 'Param',\n",
       " 'Params',\n",
       " 'PolynomialExpansion',\n",
       " 'QuantileDiscretizer',\n",
       " 'RFormula',\n",
       " 'RFormulaModel',\n",
       " 'RegexTokenizer',\n",
       " 'RobustScaler',\n",
       " 'RobustScalerModel',\n",
       " 'SQLTransformer',\n",
       " 'SparkContext',\n",
       " 'StandardScaler',\n",
       " 'StandardScalerModel',\n",
       " 'StopWordsRemover',\n",
       " 'StringIndexer',\n",
       " 'StringIndexerModel',\n",
       " 'Tokenizer',\n",
       " 'TypeConverters',\n",
       " 'UnivariateFeatureSelector',\n",
       " 'UnivariateFeatureSelectorModel',\n",
       " 'VarianceThresholdSelector',\n",
       " 'VarianceThresholdSelectorModel',\n",
       " 'VectorAssembler',\n",
       " 'VectorIndexer',\n",
       " 'VectorIndexerModel',\n",
       " 'VectorSizeHint',\n",
       " 'VectorSlicer',\n",
       " 'Word2Vec',\n",
       " 'Word2VecModel',\n",
       " '_BucketedRandomProjectionLSHParams',\n",
       " '_CountVectorizerParams',\n",
       " '_IDFParams',\n",
       " '_ImputerParams',\n",
       " '_LSH',\n",
       " '_LSHModel',\n",
       " '_LSHParams',\n",
       " '_MaxAbsScalerParams',\n",
       " '_MinMaxScalerParams',\n",
       " '_OneHotEncoderParams',\n",
       " '_PCAParams',\n",
       " '_RFormulaParams',\n",
       " '_RobustScalerParams',\n",
       " '_Selector',\n",
       " '_SelectorModel',\n",
       " '_SelectorParams',\n",
       " '_StandardScalerParams',\n",
       " '_StringIndexerParams',\n",
       " '_UnivariateFeatureSelectorParams',\n",
       " '_VarianceThresholdSelectorParams',\n",
       " '_VectorIndexerParams',\n",
       " '_Word2VecParams',\n",
       " '__all__',\n",
       " '__builtins__',\n",
       " '__cached__',\n",
       " '__doc__',\n",
       " '__file__',\n",
       " '__loader__',\n",
       " '__name__',\n",
       " '__package__',\n",
       " '__spec__',\n",
       " '_convert_to_vector',\n",
       " '_jvm',\n",
       " 'inherit_doc',\n",
       " 'keyword_only',\n",
       " 'since']"
      ]
     },
     "execution_count": 14,
     "metadata": {},
     "output_type": "execute_result"
    }
   ],
   "source": [
    "dir(pyspark.ml.feature)"
   ]
  },
  {
   "cell_type": "code",
   "execution_count": 15,
   "id": "cda5c9e8",
   "metadata": {},
   "outputs": [],
   "source": [
    "from pyspark.ml.feature import Tokenizer,StopWordsRemover,CountVectorizer,IDF"
   ]
  },
  {
   "cell_type": "code",
   "execution_count": 16,
   "id": "868e4cd8",
   "metadata": {},
   "outputs": [],
   "source": [
    "from pyspark.ml.feature import StringIndexer"
   ]
  },
  {
   "cell_type": "markdown",
   "id": "d6a1c6e9",
   "metadata": {},
   "source": [
    "# Filtering out the None categories to remove imbalance in dataset"
   ]
  },
  {
   "cell_type": "code",
   "execution_count": 17,
   "id": "97d961fe",
   "metadata": {},
   "outputs": [],
   "source": [
    "\n",
    "# define a list of scores\n",
    "l = ['None']\n",
    "\n",
    "# filter out records by scores by list l\n",
    "df = df.filter(~df.category.isin(l))"
   ]
  },
  {
   "cell_type": "code",
   "execution_count": 19,
   "id": "2eb0bbbf",
   "metadata": {},
   "outputs": [
    {
     "name": "stdout",
     "output_type": "stream",
     "text": [
      "+--------------------+--------------------+\n",
      "|               title|            category|\n",
      "+--------------------+--------------------+\n",
      "|Home Essentials B...|      Home & Kitchen|\n",
      "|Cooper Wiring Qui...|Tools & Home Impr...|\n",
      "|Baseboarders&reg;...|Tools & Home Impr...|\n",
      "|The Great Wave Of...|     Office Products|\n",
      "|Nemcor Pittsburgh...|      Home & Kitchen|\n",
      "|20 Qty. Halco 50W...|Tools & Home Impr...|\n",
      "|Redbirdlinen 1pc ...|      Home & Kitchen|\n",
      "|Hospital Bath Tow...|      Home & Kitchen|\n",
      "|Symphony in Red a...|      Home & Kitchen|\n",
      "|Big Train BLENDED...|Grocery & Gourmet...|\n",
      "|Surpahs Round 11 ...|      Home & Kitchen|\n",
      "|Anti-Slip Handle ...|      Home & Kitchen|\n",
      "|2 Hannah Montana ...|      Home & Kitchen|\n",
      "|Master Lock 1KALJ...|Tools & Home Impr...|\n",
      "|Bauxko 9&quot; x ...|     Office Products|\n",
      "|Nantucket Wine Bo...|      Home & Kitchen|\n",
      "|French Laveder Bu...|Grocery & Gourmet...|\n",
      "|Premier Faucet 11...|Tools & Home Impr...|\n",
      "|4 Locking Swivel ...|Tools & Home Impr...|\n",
      "|Filigree Heart Si...|      Home & Kitchen|\n",
      "+--------------------+--------------------+\n",
      "only showing top 20 rows\n",
      "\n"
     ]
    }
   ],
   "source": [
    "df.show()"
   ]
  },
  {
   "cell_type": "code",
   "execution_count": 20,
   "id": "90e49c97",
   "metadata": {},
   "outputs": [],
   "source": [
    "tokenizer = Tokenizer(inputCol='title',outputCol='mytokens')\n",
    "stopwords_remover = StopWordsRemover(inputCol='mytokens',outputCol='filtered_tokens')\n",
    "vectorizer = CountVectorizer(inputCol='filtered_tokens',outputCol='rawFeatures')\n",
    "idf = IDF(inputCol='rawFeatures',outputCol='vectorizedFeatures')"
   ]
  },
  {
   "cell_type": "code",
   "execution_count": 21,
   "id": "acb859b7",
   "metadata": {},
   "outputs": [],
   "source": [
    "labelEncoder = StringIndexer(inputCol='category',outputCol='label').fit(df)"
   ]
  },
  {
   "cell_type": "code",
   "execution_count": 22,
   "id": "38c2c804",
   "metadata": {},
   "outputs": [
    {
     "name": "stdout",
     "output_type": "stream",
     "text": [
      "+--------------------+--------------------+-----+\n",
      "|               title|            category|label|\n",
      "+--------------------+--------------------+-----+\n",
      "|Home Essentials B...|      Home & Kitchen|  0.0|\n",
      "|Cooper Wiring Qui...|Tools & Home Impr...|  1.0|\n",
      "|Baseboarders&reg;...|Tools & Home Impr...|  1.0|\n",
      "|The Great Wave Of...|     Office Products|  2.0|\n",
      "|Nemcor Pittsburgh...|      Home & Kitchen|  0.0|\n",
      "+--------------------+--------------------+-----+\n",
      "only showing top 5 rows\n",
      "\n"
     ]
    }
   ],
   "source": [
    "labelEncoder.transform(df).show(5)"
   ]
  },
  {
   "cell_type": "code",
   "execution_count": 24,
   "id": "254082b2",
   "metadata": {},
   "outputs": [],
   "source": [
    "df = labelEncoder.transform(df)"
   ]
  },
  {
   "cell_type": "code",
   "execution_count": 25,
   "id": "1a4bd768",
   "metadata": {},
   "outputs": [],
   "source": [
    "(trainDF,testDF) = df.randomSplit((0.7,0.3),seed=42)"
   ]
  },
  {
   "cell_type": "code",
   "execution_count": 26,
   "id": "ee7cb2d0",
   "metadata": {},
   "outputs": [],
   "source": [
    "from pyspark.ml.classification import LogisticRegression"
   ]
  },
  {
   "cell_type": "code",
   "execution_count": 27,
   "id": "d9c8d32f",
   "metadata": {},
   "outputs": [],
   "source": [
    "lr = LogisticRegression(featuresCol='vectorizedFeatures',labelCol='label')"
   ]
  },
  {
   "cell_type": "code",
   "execution_count": 28,
   "id": "653fa2e4",
   "metadata": {},
   "outputs": [],
   "source": [
    "from pyspark.ml import Pipeline "
   ]
  },
  {
   "cell_type": "code",
   "execution_count": 29,
   "id": "6c98d45e",
   "metadata": {},
   "outputs": [],
   "source": [
    "pipeline = Pipeline(stages=[tokenizer,stopwords_remover,vectorizer,idf,lr])"
   ]
  },
  {
   "cell_type": "code",
   "execution_count": 30,
   "id": "53490a18",
   "metadata": {},
   "outputs": [],
   "source": [
    "lr_model = pipeline.fit(trainDF)"
   ]
  },
  {
   "cell_type": "code",
   "execution_count": 31,
   "id": "19612bd1",
   "metadata": {},
   "outputs": [],
   "source": [
    "predictions = lr_model.transform(testDF)"
   ]
  },
  {
   "cell_type": "code",
   "execution_count": 32,
   "id": "eddd1f81",
   "metadata": {},
   "outputs": [
    {
     "name": "stdout",
     "output_type": "stream",
     "text": [
      "+--------------------+--------------------+-----+--------------------+--------------------+--------------------+--------------------+--------------------+--------------------+----------+\n",
      "|               title|            category|label|            mytokens|     filtered_tokens|         rawFeatures|  vectorizedFeatures|       rawPrediction|         probability|prediction|\n",
      "+--------------------+--------------------+-----+--------------------+--------------------+--------------------+--------------------+--------------------+--------------------+----------+\n",
      "| BAZIC Sports Pus...|     Office Products|  2.0|[, bazic, sports,...|[, bazic, sports,...|(22831,[13,37,46,...|(22831,[13,37,46,...|[3.00266660534800...|[0.00905206155373...|       2.0|\n",
      "| Biedermann &amp;...|      Home & Kitchen|  0.0|[, biedermann, &a...|[, biedermann, &a...|(22831,[5,28,36,4...|(22831,[5,28,36,4...|[11.3768478904634...|[0.99964504021620...|       0.0|\n",
      "| Bosco Chocolate ...|Grocery & Gourmet...|  3.0|[, bosco, chocola...|[, bosco, chocola...|(22831,[0,24,46,7...|(22831,[0,24,46,7...|[5.40308521941286...|[0.02470772367624...|       3.0|\n",
      "| Bulk Nuts Organi...|Grocery & Gourmet...|  3.0|[, bulk, nuts, or...|[, bulk, nuts, or...|(22831,[34,46,162...|(22831,[34,46,162...|[-9.1145148190779...|[2.43142298934266...|       3.0|\n",
      "| Coaster Contempo...|      Home & Kitchen|  0.0|[, coaster, conte...|[, coaster, conte...|(22831,[30,46,70,...|(22831,[30,46,70,...|[18.1281522066342...|[0.99997421919966...|       0.0|\n",
      "| Conversation Con...|      Home & Kitchen|  0.0|[, conversation, ...|[, conversation, ...|(22831,[27,46,72,...|(22831,[27,46,72,...|[17.8383600083757...|[0.99999980806063...|       0.0|\n",
      "| Coutellerie Tarr...|      Home & Kitchen|  0.0|[, coutellerie, t...|[, coutellerie, t...|(22831,[2,21,28,4...|(22831,[2,21,28,4...|[12.4767696506006...|[0.99979929245640...|       0.0|\n",
      "| Crystal Flame Co...|      Home & Kitchen|  0.0|[, crystal, flame...|[, crystal, flame...|(22831,[25,46,117...|(22831,[25,46,117...|[19.1838439372444...|[0.99999998528533...|       0.0|\n",
      "| Design Toscano G...|     Office Products|  2.0|[, design, toscan...|[, design, toscan...|(22831,[46,55,131...|(22831,[46,55,131...|[5.24114906356274...|[6.99694579856524...|       2.0|\n",
      "| Elrene Home Fash...|      Home & Kitchen|  0.0|[, elrene, home, ...|[, elrene, home, ...|(22831,[0,1,15,46...|(22831,[0,1,15,46...|[18.1636526517120...|[0.99999943191373...|       0.0|\n",
      "| Farberware Basic...|      Home & Kitchen|  0.0|[, farberware, ba...|[, farberware, ba...|(22831,[46,152,75...|(22831,[46,152,75...|[14.9360830212490...|[0.99989899087391...|       0.0|\n",
      "| Genie 34538S.S D...|Industrial & Scie...|  4.0|[, genie, 34538s....|[, genie, 34538s....|(22831,[0,46,274,...|(22831,[0,46,274,...|[0.97347795684624...|[2.17711384314393...|       1.0|\n",
      "| Ginsu Hanaita Se...|      Home & Kitchen|  0.0|[, ginsu, hanaita...|[, ginsu, hanaita...|(22831,[2,9,21,46...|(22831,[2,9,21,46...|[-18.087538103545...|[8.53634419422463...|       1.0|\n",
      "| HANGERWORLD Pack...|      Home & Kitchen|  0.0|[, hangerworld, p...|[, hangerworld, p...|(22831,[0,5,13,44...|(22831,[0,5,13,44...|[5.98591620764882...|[0.61564737756240...|       0.0|\n",
      "| Hansen&#39;s Sod...|Grocery & Gourmet...|  3.0|[, hansen&#39;s, ...|[, hansen&#39;s, ...|(22831,[8,46,303,...|(22831,[8,46,303,...|[-6.4266958734549...|[2.27889635014159...|       3.0|\n",
      "| Hong Tze Collect...|      Home & Kitchen|  0.0|[, hong, tze, col...|[, hong, tze, col...|(22831,[46,1520,1...|(22831,[46,1520,1...|[16.0948185195538...|[0.99999906042556...|       0.0|\n",
      "| Hydrofarm Active...|Tools & Home Impr...|  1.0|[, hydrofarm, act...|[, hydrofarm, act...|(22831,[37,46,157...|(22831,[37,46,157...|[10.9621711917356...|[0.98918685717334...|       0.0|\n",
      "| Lexmark X5650 Al...|     Office Products|  2.0|[, lexmark, x5650...|[, lexmark, x5650...|(22831,[46,603,20...|(22831,[46,603,20...|[-1.1667833719562...|[8.87034782973417...|       2.0|\n",
      "| Mama Leone&#39;s...|Grocery & Gourmet...|  3.0|[, mama, leone&#3...|[, mama, leone&#3...|(22831,[8,31,46,1...|(22831,[8,31,46,1...|[7.54564268986421...|[0.00159152121505...|       3.0|\n",
      "| Mayline Brighton...|      Home & Kitchen|  0.0|[, mayline, brigh...|[, mayline, brigh...|(22831,[46,114,66...|(22831,[46,114,66...|[9.42545667438107...|[0.99309827357486...|       0.0|\n",
      "+--------------------+--------------------+-----+--------------------+--------------------+--------------------+--------------------+--------------------+--------------------+----------+\n",
      "only showing top 20 rows\n",
      "\n"
     ]
    }
   ],
   "source": [
    "predictions.show()"
   ]
  },
  {
   "cell_type": "code",
   "execution_count": 33,
   "id": "01fd3333",
   "metadata": {},
   "outputs": [
    {
     "data": {
      "text/plain": [
       "['title',\n",
       " 'category',\n",
       " 'label',\n",
       " 'mytokens',\n",
       " 'filtered_tokens',\n",
       " 'rawFeatures',\n",
       " 'vectorizedFeatures',\n",
       " 'rawPrediction',\n",
       " 'probability',\n",
       " 'prediction']"
      ]
     },
     "execution_count": 33,
     "metadata": {},
     "output_type": "execute_result"
    }
   ],
   "source": [
    "predictions.columns"
   ]
  },
  {
   "cell_type": "code",
   "execution_count": 34,
   "id": "fd9d006e",
   "metadata": {},
   "outputs": [
    {
     "name": "stdout",
     "output_type": "stream",
     "text": [
      "+--------------------+--------------------+--------------------+-----+----------+\n",
      "|       rawPrediction|         probability|            category|label|prediction|\n",
      "+--------------------+--------------------+--------------------+-----+----------+\n",
      "|[3.00266660534800...|[0.00905206155373...|     Office Products|  2.0|       2.0|\n",
      "|[11.3768478904634...|[0.99964504021620...|      Home & Kitchen|  0.0|       0.0|\n",
      "|[5.40308521941286...|[0.02470772367624...|Grocery & Gourmet...|  3.0|       3.0|\n",
      "|[-9.1145148190779...|[2.43142298934266...|Grocery & Gourmet...|  3.0|       3.0|\n",
      "|[18.1281522066342...|[0.99997421919966...|      Home & Kitchen|  0.0|       0.0|\n",
      "|[17.8383600083757...|[0.99999980806063...|      Home & Kitchen|  0.0|       0.0|\n",
      "|[12.4767696506006...|[0.99979929245640...|      Home & Kitchen|  0.0|       0.0|\n",
      "|[19.1838439372444...|[0.99999998528533...|      Home & Kitchen|  0.0|       0.0|\n",
      "|[5.24114906356274...|[6.99694579856524...|     Office Products|  2.0|       2.0|\n",
      "|[18.1636526517120...|[0.99999943191373...|      Home & Kitchen|  0.0|       0.0|\n",
      "+--------------------+--------------------+--------------------+-----+----------+\n",
      "only showing top 10 rows\n",
      "\n"
     ]
    }
   ],
   "source": [
    "predictions.select('rawPrediction','probability','category','label','prediction').show(10)"
   ]
  },
  {
   "cell_type": "code",
   "execution_count": 35,
   "id": "cc858d3c",
   "metadata": {},
   "outputs": [],
   "source": [
    "from pyspark.ml.evaluation import MulticlassClassificationEvaluator"
   ]
  },
  {
   "cell_type": "code",
   "execution_count": 36,
   "id": "0f64a65f",
   "metadata": {},
   "outputs": [],
   "source": [
    "evaluator = MulticlassClassificationEvaluator(labelCol='label',predictionCol='prediction',metricName='accuracy')"
   ]
  },
  {
   "cell_type": "code",
   "execution_count": 37,
   "id": "08e1fadc",
   "metadata": {},
   "outputs": [],
   "source": [
    "accuracy = evaluator.evaluate(predictions)"
   ]
  },
  {
   "cell_type": "code",
   "execution_count": 38,
   "id": "f53fcc6f",
   "metadata": {},
   "outputs": [
    {
     "data": {
      "text/plain": [
       "0.7672266026739801"
      ]
     },
     "execution_count": 38,
     "metadata": {},
     "output_type": "execute_result"
    }
   ],
   "source": [
    "accuracy"
   ]
  },
  {
   "cell_type": "markdown",
   "id": "a585f938",
   "metadata": {},
   "source": [
    "# Doing validation on unseen data"
   ]
  },
  {
   "cell_type": "code",
   "execution_count": 39,
   "id": "791da3b1",
   "metadata": {},
   "outputs": [],
   "source": [
    "\n",
    "df2 = spark.read.csv('../Zycus/86b13d9a4b8e11ec/project/testing_data.csv',header=True,inferSchema=True)\n"
   ]
  },
  {
   "cell_type": "code",
   "execution_count": 40,
   "id": "0c6ca897",
   "metadata": {},
   "outputs": [],
   "source": [
    "validations = lr_model.transform(df2)"
   ]
  },
  {
   "cell_type": "code",
   "execution_count": 41,
   "id": "1e9b5aa5",
   "metadata": {},
   "outputs": [
    {
     "name": "stdout",
     "output_type": "stream",
     "text": [
      "+--------------------+--------+--------------------+--------------------+--------------------+--------------------+--------------------+--------------------+----------+\n",
      "|               title|category|            mytokens|     filtered_tokens|         rawFeatures|  vectorizedFeatures|       rawPrediction|         probability|prediction|\n",
      "+--------------------+--------+--------------------+--------------------+--------------------+--------------------+--------------------+--------------------+----------+\n",
      "|Pom Pom Hair Band...|    null|[pom, pom, hair, ...|[pom, pom, hair, ...|(22831,[0,7,10,13...|(22831,[0,7,10,13...|[13.4053680494903...|[0.99998376788913...|       0.0|\n",
      "|Mariposa Golf Bal...|    null|[mariposa, golf, ...|[mariposa, golf, ...|(22831,[213,1096,...|(22831,[213,1096,...|[7.24962069745842...|[0.80013346185125...|       0.0|\n",
      "|Mediterranean Sna...|    null|[mediterranean, s...|[mediterranean, s...|(22831,[224,988,1...|(22831,[224,988,1...|[3.63146791470849...|[8.60805256092637...|       3.0|\n",
      "|John Deere 007175...|    null|[john, deere, 007...|[john, deere, 007...|(22831,[241,595,1...|(22831,[241,595,1...|[9.99167328952404...|[0.25530275059504...|       4.0|\n",
      "|\"Protech Wood Cle...|    null|[\"protech, wood, ...|[\"protech, wood, ...|(22831,[58,556],[...|(22831,[58,556],[...|[9.12818903549694...|[0.97825245382769...|       0.0|\n",
      "|tic tac Holiday C...|    null|[tic, tac, holida...|[tic, tac, holida...|(22831,[8,16,50,1...|(22831,[8,16,50,1...|[6.16689265011437...|[0.00921597577984...|       3.0|\n",
      "|DENIED Red Office...|    null|[denied, red, off...|[denied, red, off...|(22831,[25,199,21...|(22831,[25,199,21...|[2.72205835769353...|[2.85033600107099...|       2.0|\n",
      "|Replacement Messa...|    null|[replacement, mes...|[replacement, mes...|(22831,[42,60,325...|(22831,[42,60,325...|[8.03360856941542...|[0.70508876132242...|       0.0|\n",
      "|Bundle - 3 Items:...|    null|[bundle, -, 3, it...|[bundle, -, 3, it...|(22831,[0,13,19,1...|(22831,[0,13,19,1...|[-7.5686932148699...|[1.16281682638875...|       3.0|\n",
      "|BravoVision Fashi...|    null|[bravovision, fas...|[bravovision, fas...|(22831,[1,64,79,1...|(22831,[1,64,79,1...|[20.4643313327252...|[0.99999999624412...|       0.0|\n",
      "|Scholastic Teache...|    null|[scholastic, teac...|[scholastic, teac...|(22831,[179,360,2...|(22831,[179,360,2...|[-4.8790909495768...|[1.31745069889806...|       2.0|\n",
      "|ALEKO FOPR36 Arti...|    null|[aleko, fopr36, a...|[aleko, fopr36, a...|(22831,[22,67,206...|(22831,[22,67,206...|[8.69369457680307...|[0.04018301866672...|       1.0|\n",
      "|Garmin B60 600W T...|    null|[garmin, b60, 600...|[garmin, b60, 600...|(22831,[0,37,690,...|(22831,[0,37,690,...|[0.08145061516579...|[1.64356058443602...|       1.0|\n",
      "|Estwing E3-11 12-...|    null|[estwing, e3-11, ...|[estwing, e3-11, ...|(22831,[103,547,7...|(22831,[103,547,7...|[-5.7441116340287...|[4.08309906804889...|       1.0|\n",
      "|ModHaus Diamond B...|    null|[modhaus, diamond...|[modhaus, diamond...|(22831,[100,131,1...|(22831,[100,131,1...|[21.6138399664029...|[0.99999999899583...|       0.0|\n",
      "|Yummy Grandmummy,...|    null|[yummy, grandmumm...|[yummy, grandmumm...|(22831,[125,143,3...|(22831,[125,143,3...|[13.5044197662054...|[0.99982868346208...|       0.0|\n",
      "|Zorpia&reg; Laser...|    null|[zorpia&reg;, las...|[zorpia&reg;, las...|(22831,[1,31,64,1...|(22831,[1,31,64,1...|[20.2454311707685...|[0.99999848640818...|       0.0|\n",
      "|HP Officejet Pro ...|    null|[hp, officejet, p...|[hp, officejet, p...|(22831,[67,280,29...|(22831,[67,280,29...|[2.11522078096123...|[0.01180921061561...|       2.0|\n",
      "|Basix Deli Food S...|    null|[basix, deli, foo...|[basix, deli, foo...|(22831,[13,37,50,...|(22831,[13,37,50,...|[11.1808786296804...|[0.96215342471187...|       0.0|\n",
      "|GOARTEA 50g (1.76...|    null|[goartea, 50g, (1...|[goartea, 50g, (1...|(22831,[25,57,162...|(22831,[25,57,162...|[-2.9810960735614...|[6.33835733000271...|       3.0|\n",
      "+--------------------+--------+--------------------+--------------------+--------------------+--------------------+--------------------+--------------------+----------+\n",
      "only showing top 20 rows\n",
      "\n"
     ]
    }
   ],
   "source": [
    "validations.show()"
   ]
  },
  {
   "cell_type": "code",
   "execution_count": null,
   "id": "eb730111",
   "metadata": {},
   "outputs": [],
   "source": []
  }
 ],
 "metadata": {
  "kernelspec": {
   "display_name": "Python 3",
   "language": "python",
   "name": "python3"
  },
  "language_info": {
   "codemirror_mode": {
    "name": "ipython",
    "version": 3
   },
   "file_extension": ".py",
   "mimetype": "text/x-python",
   "name": "python",
   "nbconvert_exporter": "python",
   "pygments_lexer": "ipython3",
   "version": "3.6.13"
  }
 },
 "nbformat": 4,
 "nbformat_minor": 5
}
