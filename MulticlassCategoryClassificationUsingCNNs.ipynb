{
 "cells": [
  {
   "cell_type": "code",
   "execution_count": 1,
   "id": "26dd93c7",
   "metadata": {},
   "outputs": [
    {
     "name": "stderr",
     "output_type": "stream",
     "text": [
      "C:\\Users\\gprak\\anaconda3\\envs\\my36v2\\lib\\site-packages\\tensorflow\\python\\framework\\dtypes.py:516: FutureWarning: Passing (type, 1) or '1type' as a synonym of type is deprecated; in a future version of numpy, it will be understood as (type, (1,)) / '(1,)type'.\n",
      "  _np_qint8 = np.dtype([(\"qint8\", np.int8, 1)])\n",
      "C:\\Users\\gprak\\anaconda3\\envs\\my36v2\\lib\\site-packages\\tensorflow\\python\\framework\\dtypes.py:517: FutureWarning: Passing (type, 1) or '1type' as a synonym of type is deprecated; in a future version of numpy, it will be understood as (type, (1,)) / '(1,)type'.\n",
      "  _np_quint8 = np.dtype([(\"quint8\", np.uint8, 1)])\n",
      "C:\\Users\\gprak\\anaconda3\\envs\\my36v2\\lib\\site-packages\\tensorflow\\python\\framework\\dtypes.py:518: FutureWarning: Passing (type, 1) or '1type' as a synonym of type is deprecated; in a future version of numpy, it will be understood as (type, (1,)) / '(1,)type'.\n",
      "  _np_qint16 = np.dtype([(\"qint16\", np.int16, 1)])\n",
      "C:\\Users\\gprak\\anaconda3\\envs\\my36v2\\lib\\site-packages\\tensorflow\\python\\framework\\dtypes.py:519: FutureWarning: Passing (type, 1) or '1type' as a synonym of type is deprecated; in a future version of numpy, it will be understood as (type, (1,)) / '(1,)type'.\n",
      "  _np_quint16 = np.dtype([(\"quint16\", np.uint16, 1)])\n",
      "C:\\Users\\gprak\\anaconda3\\envs\\my36v2\\lib\\site-packages\\tensorflow\\python\\framework\\dtypes.py:520: FutureWarning: Passing (type, 1) or '1type' as a synonym of type is deprecated; in a future version of numpy, it will be understood as (type, (1,)) / '(1,)type'.\n",
      "  _np_qint32 = np.dtype([(\"qint32\", np.int32, 1)])\n",
      "C:\\Users\\gprak\\anaconda3\\envs\\my36v2\\lib\\site-packages\\tensorflow\\python\\framework\\dtypes.py:525: FutureWarning: Passing (type, 1) or '1type' as a synonym of type is deprecated; in a future version of numpy, it will be understood as (type, (1,)) / '(1,)type'.\n",
      "  np_resource = np.dtype([(\"resource\", np.ubyte, 1)])\n",
      "C:\\Users\\gprak\\anaconda3\\envs\\my36v2\\lib\\site-packages\\tensorboard\\compat\\tensorflow_stub\\dtypes.py:541: FutureWarning: Passing (type, 1) or '1type' as a synonym of type is deprecated; in a future version of numpy, it will be understood as (type, (1,)) / '(1,)type'.\n",
      "  _np_qint8 = np.dtype([(\"qint8\", np.int8, 1)])\n",
      "C:\\Users\\gprak\\anaconda3\\envs\\my36v2\\lib\\site-packages\\tensorboard\\compat\\tensorflow_stub\\dtypes.py:542: FutureWarning: Passing (type, 1) or '1type' as a synonym of type is deprecated; in a future version of numpy, it will be understood as (type, (1,)) / '(1,)type'.\n",
      "  _np_quint8 = np.dtype([(\"quint8\", np.uint8, 1)])\n",
      "C:\\Users\\gprak\\anaconda3\\envs\\my36v2\\lib\\site-packages\\tensorboard\\compat\\tensorflow_stub\\dtypes.py:543: FutureWarning: Passing (type, 1) or '1type' as a synonym of type is deprecated; in a future version of numpy, it will be understood as (type, (1,)) / '(1,)type'.\n",
      "  _np_qint16 = np.dtype([(\"qint16\", np.int16, 1)])\n",
      "C:\\Users\\gprak\\anaconda3\\envs\\my36v2\\lib\\site-packages\\tensorboard\\compat\\tensorflow_stub\\dtypes.py:544: FutureWarning: Passing (type, 1) or '1type' as a synonym of type is deprecated; in a future version of numpy, it will be understood as (type, (1,)) / '(1,)type'.\n",
      "  _np_quint16 = np.dtype([(\"quint16\", np.uint16, 1)])\n",
      "C:\\Users\\gprak\\anaconda3\\envs\\my36v2\\lib\\site-packages\\tensorboard\\compat\\tensorflow_stub\\dtypes.py:545: FutureWarning: Passing (type, 1) or '1type' as a synonym of type is deprecated; in a future version of numpy, it will be understood as (type, (1,)) / '(1,)type'.\n",
      "  _np_qint32 = np.dtype([(\"qint32\", np.int32, 1)])\n",
      "C:\\Users\\gprak\\anaconda3\\envs\\my36v2\\lib\\site-packages\\tensorboard\\compat\\tensorflow_stub\\dtypes.py:550: FutureWarning: Passing (type, 1) or '1type' as a synonym of type is deprecated; in a future version of numpy, it will be understood as (type, (1,)) / '(1,)type'.\n",
      "  np_resource = np.dtype([(\"resource\", np.ubyte, 1)])\n",
      "Using TensorFlow backend.\n"
     ]
    }
   ],
   "source": [
    "import numpy as np\n",
    "import pandas as pd\n",
    "import matplotlib.pyplot as plt\n",
    "%matplotlib inline\n",
    "\n",
    "from sklearn.model_selection import train_test_split\n",
    "from sklearn.preprocessing import LabelBinarizer, LabelEncoder\n",
    "from sklearn.metrics import confusion_matrix\n",
    "\n",
    "import tensorflow as tf\n",
    "import keras\n",
    "from keras.models import Sequential\n",
    "from keras.layers import Dense, Flatten, Activation, Dropout, GlobalMaxPool1D, Conv1D\n",
    "from keras.layers.embeddings import Embedding\n",
    "from keras.preprocessing import text, sequence\n",
    "from keras.preprocessing.text import Tokenizer\n",
    "from keras.preprocessing.sequence import pad_sequences\n",
    "from keras import utils"
   ]
  },
  {
   "cell_type": "code",
   "execution_count": 2,
   "id": "deff74a5",
   "metadata": {},
   "outputs": [
    {
     "data": {
      "text/html": [
       "<div>\n",
       "<style scoped>\n",
       "    .dataframe tbody tr th:only-of-type {\n",
       "        vertical-align: middle;\n",
       "    }\n",
       "\n",
       "    .dataframe tbody tr th {\n",
       "        vertical-align: top;\n",
       "    }\n",
       "\n",
       "    .dataframe thead th {\n",
       "        text-align: right;\n",
       "    }\n",
       "</style>\n",
       "<table border=\"1\" class=\"dataframe\">\n",
       "  <thead>\n",
       "    <tr style=\"text-align: right;\">\n",
       "      <th></th>\n",
       "      <th>title</th>\n",
       "      <th>category</th>\n",
       "    </tr>\n",
       "  </thead>\n",
       "  <tbody>\n",
       "    <tr>\n",
       "      <th>0</th>\n",
       "      <td>The Three Amigos</td>\n",
       "      <td>None</td>\n",
       "    </tr>\n",
       "    <tr>\n",
       "      <th>1</th>\n",
       "      <td>Home Essentials Blue Floral Glass Vintage Styl...</td>\n",
       "      <td>Home &amp; Kitchen</td>\n",
       "    </tr>\n",
       "    <tr>\n",
       "      <th>2</th>\n",
       "      <td>Cooper Wiring Quiet Toggle Switch Single Pole ...</td>\n",
       "      <td>Tools &amp; Home Improvement</td>\n",
       "    </tr>\n",
       "    <tr>\n",
       "      <th>3</th>\n",
       "      <td>Baseboarders&amp;reg; Wall Brackets</td>\n",
       "      <td>Tools &amp; Home Improvement</td>\n",
       "    </tr>\n",
       "    <tr>\n",
       "      <th>4</th>\n",
       "      <td>The Great Wave Off Kanagawa Custom Rectangle M...</td>\n",
       "      <td>Office Products</td>\n",
       "    </tr>\n",
       "  </tbody>\n",
       "</table>\n",
       "</div>"
      ],
      "text/plain": [
       "                                               title                  category\n",
       "0                                   The Three Amigos                      None\n",
       "1  Home Essentials Blue Floral Glass Vintage Styl...            Home & Kitchen\n",
       "2  Cooper Wiring Quiet Toggle Switch Single Pole ...  Tools & Home Improvement\n",
       "3                    Baseboarders&reg; Wall Brackets  Tools & Home Improvement\n",
       "4  The Great Wave Off Kanagawa Custom Rectangle M...           Office Products"
      ]
     },
     "execution_count": 2,
     "metadata": {},
     "output_type": "execute_result"
    }
   ],
   "source": [
    "df = pd.read_csv('../Zycus/86b13d9a4b8e11ec/project/training_data.csv')\n",
    "df.head()"
   ]
  },
  {
   "cell_type": "code",
   "execution_count": 3,
   "id": "503758cb",
   "metadata": {},
   "outputs": [
    {
     "data": {
      "text/html": [
       "<div>\n",
       "<style scoped>\n",
       "    .dataframe tbody tr th:only-of-type {\n",
       "        vertical-align: middle;\n",
       "    }\n",
       "\n",
       "    .dataframe tbody tr th {\n",
       "        vertical-align: top;\n",
       "    }\n",
       "\n",
       "    .dataframe thead th {\n",
       "        text-align: right;\n",
       "    }\n",
       "</style>\n",
       "<table border=\"1\" class=\"dataframe\">\n",
       "  <thead>\n",
       "    <tr style=\"text-align: right;\">\n",
       "      <th></th>\n",
       "      <th>title</th>\n",
       "      <th>category</th>\n",
       "    </tr>\n",
       "  </thead>\n",
       "  <tbody>\n",
       "    <tr>\n",
       "      <th>1</th>\n",
       "      <td>Home Essentials Blue Floral Glass Vintage Styl...</td>\n",
       "      <td>Home &amp; Kitchen</td>\n",
       "    </tr>\n",
       "    <tr>\n",
       "      <th>2</th>\n",
       "      <td>Cooper Wiring Quiet Toggle Switch Single Pole ...</td>\n",
       "      <td>Tools &amp; Home Improvement</td>\n",
       "    </tr>\n",
       "    <tr>\n",
       "      <th>3</th>\n",
       "      <td>Baseboarders&amp;reg; Wall Brackets</td>\n",
       "      <td>Tools &amp; Home Improvement</td>\n",
       "    </tr>\n",
       "    <tr>\n",
       "      <th>4</th>\n",
       "      <td>The Great Wave Off Kanagawa Custom Rectangle M...</td>\n",
       "      <td>Office Products</td>\n",
       "    </tr>\n",
       "    <tr>\n",
       "      <th>5</th>\n",
       "      <td>Nemcor Pittsburgh Penguins NHL #1 Ultimate Fan...</td>\n",
       "      <td>Home &amp; Kitchen</td>\n",
       "    </tr>\n",
       "  </tbody>\n",
       "</table>\n",
       "</div>"
      ],
      "text/plain": [
       "                                               title                  category\n",
       "1  Home Essentials Blue Floral Glass Vintage Styl...            Home & Kitchen\n",
       "2  Cooper Wiring Quiet Toggle Switch Single Pole ...  Tools & Home Improvement\n",
       "3                    Baseboarders&reg; Wall Brackets  Tools & Home Improvement\n",
       "4  The Great Wave Off Kanagawa Custom Rectangle M...           Office Products\n",
       "5  Nemcor Pittsburgh Penguins NHL #1 Ultimate Fan...            Home & Kitchen"
      ]
     },
     "execution_count": 3,
     "metadata": {},
     "output_type": "execute_result"
    }
   ],
   "source": [
    "df =df[df['category']!='None']\n",
    "df.head()"
   ]
  },
  {
   "cell_type": "code",
   "execution_count": 4,
   "id": "8ed15eb9",
   "metadata": {},
   "outputs": [
    {
     "data": {
      "text/plain": [
       "(10065, 2)"
      ]
     },
     "execution_count": 4,
     "metadata": {},
     "output_type": "execute_result"
    }
   ],
   "source": [
    "df.shape"
   ]
  },
  {
   "cell_type": "code",
   "execution_count": 5,
   "id": "15cb471d",
   "metadata": {},
   "outputs": [
    {
     "data": {
      "text/plain": [
       "Index(['title', 'category'], dtype='object')"
      ]
     },
     "execution_count": 5,
     "metadata": {},
     "output_type": "execute_result"
    }
   ],
   "source": [
    "df.columns"
   ]
  },
  {
   "cell_type": "code",
   "execution_count": 6,
   "id": "62e8a134",
   "metadata": {},
   "outputs": [],
   "source": [
    "sentences = df['title']\n",
    "y = df['category']\n",
    "\n",
    "sentences_train, sentences_test, train_y, test_y = train_test_split(sentences, y, test_size=0.25, random_state=42)"
   ]
  },
  {
   "cell_type": "code",
   "execution_count": 7,
   "id": "89032d18",
   "metadata": {},
   "outputs": [
    {
     "name": "stdout",
     "output_type": "stream",
     "text": [
      "Cooper Wiring Quiet Toggle Switch Single Pole Lighted 15 A 120 V Ivory Ul Boxed\n",
      "[214, 6, 97, 52, 565, 931, 727]\n"
     ]
    }
   ],
   "source": [
    "tokenize = Tokenizer(num_words=1000)\n",
    "tokenize.fit_on_texts(sentences_train)\n",
    "\n",
    "X_train = tokenize.texts_to_sequences(sentences_train)\n",
    "X_test = tokenize.texts_to_sequences(sentences_test)\n",
    "\n",
    "vocab_size = len(tokenize.word_index) + 1  \n",
    "\n",
    "print(sentences_train[2])\n",
    "print(X_train[2])"
   ]
  },
  {
   "cell_type": "code",
   "execution_count": 8,
   "id": "be8ffc62",
   "metadata": {},
   "outputs": [
    {
     "name": "stdout",
     "output_type": "stream",
     "text": [
      "[304 726 294 145 563  26 304 726   7  92 145 442   0   0   0   0   0   0\n",
      "   0   0   0   0   0   0   0   0   0   0   0   0   0   0   0   0   0   0\n",
      "   0   0   0   0   0   0   0   0   0   0   0   0   0   0   0   0   0   0\n",
      "   0   0   0   0   0   0   0   0   0   0   0   0   0   0   0   0   0   0\n",
      "   0   0   0   0   0   0   0   0   0   0   0   0   0   0   0   0   0   0\n",
      "   0   0   0   0   0   0   0   0   0   0]\n"
     ]
    }
   ],
   "source": [
    "maxlen = 100\n",
    "\n",
    "X_train = pad_sequences(X_train, padding='post', maxlen=maxlen)\n",
    "X_test = pad_sequences(X_test, padding='post', maxlen=maxlen)\n",
    "\n",
    "print(X_train[0, :])"
   ]
  },
  {
   "cell_type": "code",
   "execution_count": 9,
   "id": "c4210e35",
   "metadata": {},
   "outputs": [
    {
     "name": "stdout",
     "output_type": "stream",
     "text": [
      "6\n"
     ]
    }
   ],
   "source": [
    "encoder = LabelEncoder()\n",
    "encoder.fit(train_y)\n",
    "y_train = encoder.transform(train_y)\n",
    "y_test = encoder.transform(test_y)\n",
    "\n",
    "num_classes = np.max(y_train) + 1\n",
    "print(num_classes)\n",
    "y_train = utils.to_categorical(y_train, num_classes)\n",
    "y_test = utils.to_categorical(y_test, num_classes)"
   ]
  },
  {
   "cell_type": "markdown",
   "id": "1ba503c5",
   "metadata": {},
   "source": [
    "# Adding Embedding Layer"
   ]
  },
  {
   "cell_type": "code",
   "execution_count": 10,
   "id": "88e0c710",
   "metadata": {},
   "outputs": [
    {
     "name": "stdout",
     "output_type": "stream",
     "text": [
      "Model: \"sequential_1\"\n",
      "_________________________________________________________________\n",
      "Layer (type)                 Output Shape              Param #   \n",
      "=================================================================\n",
      "embedding_1 (Embedding)      (None, 100, 16)           290640    \n",
      "_________________________________________________________________\n",
      "flatten_1 (Flatten)          (None, 1600)              0         \n",
      "_________________________________________________________________\n",
      "dense_1 (Dense)              (None, 16)                25616     \n",
      "_________________________________________________________________\n",
      "dense_2 (Dense)              (None, 6)                 102       \n",
      "=================================================================\n",
      "Total params: 316,358\n",
      "Trainable params: 316,358\n",
      "Non-trainable params: 0\n",
      "_________________________________________________________________\n"
     ]
    }
   ],
   "source": [
    "embedding_dim = 16\n",
    "\n",
    "model = Sequential()\n",
    "model.add(Embedding(input_dim=vocab_size, output_dim=embedding_dim, input_length=maxlen))\n",
    "model.add(Flatten())\n",
    "model.add(Dense(16, activation='relu'))\n",
    "model.add(Dense(6, activation='softmax'))\n",
    "\n",
    "model.compile(optimizer='adam',\n",
    "              loss='categorical_crossentropy',\n",
    "              metrics=['accuracy'])\n",
    "model.summary()"
   ]
  },
  {
   "cell_type": "code",
   "execution_count": 11,
   "id": "e647211d",
   "metadata": {},
   "outputs": [
    {
     "name": "stdout",
     "output_type": "stream",
     "text": [
      "WARNING:tensorflow:From C:\\Users\\gprak\\anaconda3\\envs\\my36v2\\lib\\site-packages\\keras\\backend\\tensorflow_backend.py:422: The name tf.global_variables is deprecated. Please use tf.compat.v1.global_variables instead.\n",
      "\n",
      "Train on 7548 samples, validate on 2517 samples\n",
      "Epoch 1/15\n",
      "7548/7548 [==============================] - 1s 150us/step - loss: 1.3370 - accuracy: 0.5040 - val_loss: 1.1598 - val_accuracy: 0.5598\n",
      "Epoch 2/15\n",
      "7548/7548 [==============================] - 1s 132us/step - loss: 1.0380 - accuracy: 0.5995 - val_loss: 1.0093 - val_accuracy: 0.6210\n",
      "Epoch 3/15\n",
      "7548/7548 [==============================] - 1s 123us/step - loss: 0.9112 - accuracy: 0.6571 - val_loss: 0.9450 - val_accuracy: 0.6496\n",
      "Epoch 4/15\n",
      "7548/7548 [==============================] - 1s 136us/step - loss: 0.8292 - accuracy: 0.6969 - val_loss: 0.9032 - val_accuracy: 0.6786\n",
      "Epoch 5/15\n",
      "7548/7548 [==============================] - 2s 285us/step - loss: 0.7576 - accuracy: 0.7305 - val_loss: 0.8590 - val_accuracy: 0.6973\n",
      "Epoch 6/15\n",
      "7548/7548 [==============================] - 2s 281us/step - loss: 0.6871 - accuracy: 0.7582 - val_loss: 0.8380 - val_accuracy: 0.7116\n",
      "Epoch 7/15\n",
      "7548/7548 [==============================] - 2s 289us/step - loss: 0.6145 - accuracy: 0.7901 - val_loss: 0.8035 - val_accuracy: 0.7302\n",
      "Epoch 8/15\n",
      "7548/7548 [==============================] - 2s 292us/step - loss: 0.5435 - accuracy: 0.8147 - val_loss: 0.8003 - val_accuracy: 0.7410\n",
      "Epoch 9/15\n",
      "7548/7548 [==============================] - 2s 291us/step - loss: 0.4789 - accuracy: 0.8324 - val_loss: 0.7518 - val_accuracy: 0.7537\n",
      "Epoch 10/15\n",
      "7548/7548 [==============================] - 2s 290us/step - loss: 0.4213 - accuracy: 0.8535 - val_loss: 0.7727 - val_accuracy: 0.7573\n",
      "Epoch 11/15\n",
      "7548/7548 [==============================] - 2s 294us/step - loss: 0.3739 - accuracy: 0.8704 - val_loss: 0.7714 - val_accuracy: 0.7493\n",
      "Epoch 12/15\n",
      "7548/7548 [==============================] - 2s 292us/step - loss: 0.3299 - accuracy: 0.8839 - val_loss: 0.8000 - val_accuracy: 0.7545\n",
      "Epoch 13/15\n",
      "7548/7548 [==============================] - 2s 291us/step - loss: 0.2954 - accuracy: 0.9010 - val_loss: 0.8223 - val_accuracy: 0.7481\n",
      "Epoch 14/15\n",
      "7548/7548 [==============================] - 2s 289us/step - loss: 0.2630 - accuracy: 0.9155 - val_loss: 0.8562 - val_accuracy: 0.7481\n",
      "Epoch 15/15\n",
      "7548/7548 [==============================] - 2s 288us/step - loss: 0.2353 - accuracy: 0.9254 - val_loss: 0.8861 - val_accuracy: 0.7489\n"
     ]
    }
   ],
   "source": [
    "history = model.fit(X_train, y_train,\n",
    "                    batch_size=32,\n",
    "                    epochs=15,\n",
    "                    validation_data=(X_test, y_test))"
   ]
  },
  {
   "cell_type": "code",
   "execution_count": 12,
   "id": "a938cadf",
   "metadata": {},
   "outputs": [
    {
     "name": "stdout",
     "output_type": "stream",
     "text": [
      "Training Accuracy: 0.9441\n",
      "Testing Accuracy:  0.7489\n"
     ]
    }
   ],
   "source": [
    "loss, accuracy = model.evaluate(X_train, y_train, verbose=False)\n",
    "print(\"Training Accuracy: {:.4f}\".format(accuracy))\n",
    "loss, accuracy = model.evaluate(X_test, y_test, verbose=False)\n",
    "print(\"Testing Accuracy:  {:.4f}\".format(accuracy))"
   ]
  },
  {
   "cell_type": "code",
   "execution_count": 13,
   "id": "ea4d897d",
   "metadata": {},
   "outputs": [
    {
     "data": {
      "image/png": "[encoded data removed]",
      "text/plain": [
       "<Figure size 432x288 with 1 Axes>"
      ]
     },
     "metadata": {
      "needs_background": "light"
     },
     "output_type": "display_data"
    },
    {
     "data": {
      "image/png": "[encoded data removed]",
      "text/plain": [
       "<Figure size 432x288 with 1 Axes>"
      ]
     },
     "metadata": {
      "needs_background": "light"
     },
     "output_type": "display_data"
    }
   ],
   "source": [
    "def plot_graphs(history, string):\n",
    "    plt.plot(history.history[string])\n",
    "    plt.plot(history.history['val_'+string])\n",
    "    plt.xlabel(\"Epochs\")\n",
    "    plt.ylabel(string)\n",
    "    plt.legend([string, 'val_'+string])\n",
    "    plt.show()\n",
    "\n",
    "plot_graphs(history, \"accuracy\")\n",
    "plot_graphs(history, \"loss\")"
   ]
  },
  {
   "cell_type": "markdown",
   "id": "5f7c2051",
   "metadata": {},
   "source": [
    "# Adding Flatten layer and then comparing results"
   ]
  },
  {
   "cell_type": "code",
   "execution_count": 14,
   "id": "ca1b2285",
   "metadata": {},
   "outputs": [
    {
     "name": "stdout",
     "output_type": "stream",
     "text": [
      "Model: \"sequential_2\"\n",
      "_________________________________________________________________\n",
      "Layer (type)                 Output Shape              Param #   \n",
      "=================================================================\n",
      "embedding_2 (Embedding)      (None, 100, 16)           290640    \n",
      "_________________________________________________________________\n",
      "flatten_2 (Flatten)          (None, 1600)              0         \n",
      "_________________________________________________________________\n",
      "dense_3 (Dense)              (None, 16)                25616     \n",
      "_________________________________________________________________\n",
      "dropout_1 (Dropout)          (None, 16)                0         \n",
      "_________________________________________________________________\n",
      "dense_4 (Dense)              (None, 6)                 102       \n",
      "=================================================================\n",
      "Total params: 316,358\n",
      "Trainable params: 316,358\n",
      "Non-trainable params: 0\n",
      "_________________________________________________________________\n"
     ]
    }
   ],
   "source": [
    "model2 = Sequential()\n",
    "model2.add(Embedding(input_dim=vocab_size, output_dim=embedding_dim, input_length=maxlen))\n",
    "model2.add(Flatten())\n",
    "model2.add(Dense(16, activation='relu'))\n",
    "model2.add(Dropout(0.5))\n",
    "model2.add(Dense(6, activation='softmax'))\n",
    "\n",
    "model2.compile(optimizer='adam',\n",
    "              loss='categorical_crossentropy',\n",
    "              metrics=['accuracy'])\n",
    "model2.summary()"
   ]
  },
  {
   "cell_type": "code",
   "execution_count": 15,
   "id": "ec2f42ca",
   "metadata": {},
   "outputs": [
    {
     "name": "stdout",
     "output_type": "stream",
     "text": [
      "Train on 7548 samples, validate on 2517 samples\n",
      "Epoch 1/15\n",
      "7548/7548 [==============================] - 3s 346us/step - loss: 1.5116 - accuracy: 0.4735 - val_loss: 1.3530 - val_accuracy: 0.4919\n",
      "Epoch 2/15\n",
      "7548/7548 [==============================] - 2s 305us/step - loss: 1.2726 - accuracy: 0.5195 - val_loss: 1.1088 - val_accuracy: 0.5777\n",
      "Epoch 3/15\n",
      "7548/7548 [==============================] - 2s 304us/step - loss: 1.0967 - accuracy: 0.5786 - val_loss: 0.9626 - val_accuracy: 0.6706\n",
      "Epoch 4/15\n",
      "7548/7548 [==============================] - 2s 302us/step - loss: 0.9684 - accuracy: 0.6328 - val_loss: 0.8607 - val_accuracy: 0.6988\n",
      "Epoch 5/15\n",
      "7548/7548 [==============================] - 2s 302us/step - loss: 0.8277 - accuracy: 0.7050 - val_loss: 0.7846 - val_accuracy: 0.7398\n",
      "Epoch 6/15\n",
      "7548/7548 [==============================] - 2s 307us/step - loss: 0.7397 - accuracy: 0.7431 - val_loss: 0.7607 - val_accuracy: 0.7465\n",
      "Epoch 7/15\n",
      "7548/7548 [==============================] - 2s 291us/step - loss: 0.6915 - accuracy: 0.7594 - val_loss: 0.7477 - val_accuracy: 0.7481\n",
      "Epoch 8/15\n",
      "7548/7548 [==============================] - 2s 282us/step - loss: 0.6442 - accuracy: 0.7737 - val_loss: 0.7539 - val_accuracy: 0.7521\n",
      "Epoch 9/15\n",
      "7548/7548 [==============================] - 2s 293us/step - loss: 0.6104 - accuracy: 0.7868 - val_loss: 0.7572 - val_accuracy: 0.7433\n",
      "Epoch 10/15\n",
      "7548/7548 [==============================] - 2s 301us/step - loss: 0.5755 - accuracy: 0.8050 - val_loss: 0.7687 - val_accuracy: 0.7445\n",
      "Epoch 11/15\n",
      "7548/7548 [==============================] - 2s 299us/step - loss: 0.5478 - accuracy: 0.8067 - val_loss: 0.7837 - val_accuracy: 0.7441\n",
      "Epoch 12/15\n",
      "7548/7548 [==============================] - 2s 288us/step - loss: 0.5290 - accuracy: 0.8180 - val_loss: 0.8146 - val_accuracy: 0.7469\n",
      "Epoch 13/15\n",
      "7548/7548 [==============================] - 2s 291us/step - loss: 0.5113 - accuracy: 0.8213 - val_loss: 0.8322 - val_accuracy: 0.7453\n",
      "Epoch 14/15\n",
      "7548/7548 [==============================] - 2s 297us/step - loss: 0.4834 - accuracy: 0.8296 - val_loss: 0.8559 - val_accuracy: 0.7441\n",
      "Epoch 15/15\n",
      "7548/7548 [==============================] - 2s 298us/step - loss: 0.4546 - accuracy: 0.8402 - val_loss: 0.8643 - val_accuracy: 0.7426\n"
     ]
    }
   ],
   "source": [
    "history_two = model2.fit(X_train, y_train,\n",
    "                        batch_size=32,\n",
    "                        epochs=15,\n",
    "                        validation_data=(X_test, y_test))"
   ]
  },
  {
   "cell_type": "code",
   "execution_count": 16,
   "id": "6325c20c",
   "metadata": {},
   "outputs": [
    {
     "name": "stdout",
     "output_type": "stream",
     "text": [
      "Training Accuracy: 0.9026\n",
      "Testing Accuracy:  0.7426\n"
     ]
    }
   ],
   "source": [
    "loss, accuracy = model2.evaluate(X_train, y_train, verbose=False)\n",
    "print(\"Training Accuracy: {:.4f}\".format(accuracy))\n",
    "loss, accuracy = model2.evaluate(X_test, y_test, verbose=False)\n",
    "print(\"Testing Accuracy:  {:.4f}\".format(accuracy))"
   ]
  },
  {
   "cell_type": "code",
   "execution_count": 17,
   "id": "f3c0e09a",
   "metadata": {},
   "outputs": [
    {
     "data": {
      "image/png": "[encoded data removed]",
      "text/plain": [
       "<Figure size 432x288 with 1 Axes>"
      ]
     },
     "metadata": {
      "needs_background": "light"
     },
     "output_type": "display_data"
    },
    {
     "data": {
      "image/png": "[encoded data removed]",
      "text/plain": [
       "<Figure size 432x288 with 1 Axes>"
      ]
     },
     "metadata": {
      "needs_background": "light"
     },
     "output_type": "display_data"
    }
   ],
   "source": [
    "plot_graphs(history_two, \"accuracy\")\n",
    "plot_graphs(history_two, \"loss\")"
   ]
  },
  {
   "cell_type": "markdown",
   "id": "df521ebf",
   "metadata": {},
   "source": [
    "# Adding Max pooling layer and then comparing results"
   ]
  },
  {
   "cell_type": "code",
   "execution_count": 18,
   "id": "4a8bfb91",
   "metadata": {},
   "outputs": [
    {
     "name": "stdout",
     "output_type": "stream",
     "text": [
      "Model: \"sequential_3\"\n",
      "_________________________________________________________________\n",
      "Layer (type)                 Output Shape              Param #   \n",
      "=================================================================\n",
      "embedding_3 (Embedding)      (None, 100, 50)           908250    \n",
      "_________________________________________________________________\n",
      "global_max_pooling1d_1 (Glob (None, 50)                0         \n",
      "_________________________________________________________________\n",
      "dense_5 (Dense)              (None, 16)                816       \n",
      "_________________________________________________________________\n",
      "dense_6 (Dense)              (None, 6)                 102       \n",
      "=================================================================\n",
      "Total params: 909,168\n",
      "Trainable params: 909,168\n",
      "Non-trainable params: 0\n",
      "_________________________________________________________________\n"
     ]
    }
   ],
   "source": [
    "embedding_dim = 50\n",
    "\n",
    "model3 = Sequential()\n",
    "model3.add(Embedding(input_dim=vocab_size, output_dim=embedding_dim, input_length=maxlen))\n",
    "model3.add(GlobalMaxPool1D())\n",
    "model3.add(Dense(16, activation='relu'))\n",
    "model3.add(Dense(6, activation='softmax'))\n",
    "\n",
    "model3.compile(optimizer='adam',\n",
    "               loss='categorical_crossentropy',\n",
    "               metrics=['accuracy'])\n",
    "\n",
    "model3.summary()"
   ]
  },
  {
   "cell_type": "code",
   "execution_count": 19,
   "id": "25a3bbd9",
   "metadata": {},
   "outputs": [
    {
     "name": "stdout",
     "output_type": "stream",
     "text": [
      "Train on 7548 samples, validate on 2517 samples\n",
      "Epoch 1/15\n",
      "7548/7548 [==============================] - 5s 633us/step - loss: 1.4588 - accuracy: 0.4850 - val_loss: 1.2793 - val_accuracy: 0.4919\n",
      "Epoch 2/15\n",
      "7548/7548 [==============================] - 4s 580us/step - loss: 1.0824 - accuracy: 0.5809 - val_loss: 0.9111 - val_accuracy: 0.7068\n",
      "Epoch 3/15\n",
      "7548/7548 [==============================] - 4s 583us/step - loss: 0.7271 - accuracy: 0.7757 - val_loss: 0.7217 - val_accuracy: 0.7533\n",
      "Epoch 4/15\n",
      "7548/7548 [==============================] - 4s 584us/step - loss: 0.5527 - accuracy: 0.8143 - val_loss: 0.6660 - val_accuracy: 0.7668\n",
      "Epoch 5/15\n",
      "7548/7548 [==============================] - 4s 591us/step - loss: 0.4588 - accuracy: 0.8447 - val_loss: 0.6539 - val_accuracy: 0.7676\n",
      "Epoch 6/15\n",
      "7548/7548 [==============================] - 4s 571us/step - loss: 0.3934 - accuracy: 0.8670 - val_loss: 0.6574 - val_accuracy: 0.7775\n",
      "Epoch 7/15\n",
      "7548/7548 [==============================] - 4s 579us/step - loss: 0.3409 - accuracy: 0.8892 - val_loss: 0.6717 - val_accuracy: 0.7747\n",
      "Epoch 8/15\n",
      "7548/7548 [==============================] - 4s 582us/step - loss: 0.2969 - accuracy: 0.9073 - val_loss: 0.6992 - val_accuracy: 0.7783\n",
      "Epoch 9/15\n",
      "7548/7548 [==============================] - 4s 587us/step - loss: 0.2607 - accuracy: 0.9196 - val_loss: 0.7378 - val_accuracy: 0.7704\n",
      "Epoch 10/15\n",
      "7548/7548 [==============================] - 4s 580us/step - loss: 0.2287 - accuracy: 0.9302 - val_loss: 0.7602 - val_accuracy: 0.7648\n",
      "Epoch 11/15\n",
      "7548/7548 [==============================] - 4s 565us/step - loss: 0.2017 - accuracy: 0.9404 - val_loss: 0.7978 - val_accuracy: 0.7632\n",
      "Epoch 12/15\n",
      "7548/7548 [==============================] - 4s 588us/step - loss: 0.1777 - accuracy: 0.9483 - val_loss: 0.8383 - val_accuracy: 0.7644\n",
      "Epoch 13/15\n",
      "7548/7548 [==============================] - 4s 581us/step - loss: 0.1561 - accuracy: 0.9564 - val_loss: 0.8629 - val_accuracy: 0.7668\n",
      "Epoch 14/15\n",
      "7548/7548 [==============================] - 4s 589us/step - loss: 0.1383 - accuracy: 0.9625 - val_loss: 0.9039 - val_accuracy: 0.7628\n",
      "Epoch 15/15\n",
      "7548/7548 [==============================] - 4s 577us/step - loss: 0.1212 - accuracy: 0.9683 - val_loss: 0.9363 - val_accuracy: 0.7592\n"
     ]
    }
   ],
   "source": [
    "history_3 = model3.fit(X_train, y_train,\n",
    "                       batch_size=32,\n",
    "                       epochs=15,\n",
    "                       validation_data=(X_test, y_test))"
   ]
  },
  {
   "cell_type": "code",
   "execution_count": 20,
   "id": "8e0da02e",
   "metadata": {},
   "outputs": [
    {
     "name": "stdout",
     "output_type": "stream",
     "text": [
      "Training Accuracy: 0.9760\n",
      "Testing Accuracy:  0.7592\n"
     ]
    }
   ],
   "source": [
    "loss, accuracy = model3.evaluate(X_train, y_train, verbose=False)\n",
    "print(\"Training Accuracy: {:.4f}\".format(accuracy))\n",
    "loss, accuracy = model3.evaluate(X_test, y_test, verbose=False)\n",
    "print(\"Testing Accuracy:  {:.4f}\".format(accuracy))"
   ]
  },
  {
   "cell_type": "code",
   "execution_count": 21,
   "id": "ae23cbc0",
   "metadata": {},
   "outputs": [
    {
     "data": {
      "image/png": "[encoded data removed]",
      "text/plain": [
       "<Figure size 432x288 with 1 Axes>"
      ]
     },
     "metadata": {
      "needs_background": "light"
     },
     "output_type": "display_data"
    },
    {
     "data": {
      "image/png": "[encoded data removed]",
      "text/plain": [
       "<Figure size 432x288 with 1 Axes>"
      ]
     },
     "metadata": {
      "needs_background": "light"
     },
     "output_type": "display_data"
    }
   ],
   "source": [
    "plot_graphs(history_3, \"accuracy\")\n",
    "plot_graphs(history_3, \"loss\")"
   ]
  },
  {
   "cell_type": "markdown",
   "id": "75f2df57",
   "metadata": {},
   "source": [
    "# Adding Dropout layer and then comparing results"
   ]
  },
  {
   "cell_type": "code",
   "execution_count": 22,
   "id": "dd99e307",
   "metadata": {},
   "outputs": [
    {
     "name": "stdout",
     "output_type": "stream",
     "text": [
      "Model: \"sequential_4\"\n",
      "_________________________________________________________________\n",
      "Layer (type)                 Output Shape              Param #   \n",
      "=================================================================\n",
      "embedding_4 (Embedding)      (None, 100, 50)           908250    \n",
      "_________________________________________________________________\n",
      "global_max_pooling1d_2 (Glob (None, 50)                0         \n",
      "_________________________________________________________________\n",
      "dropout_2 (Dropout)          (None, 50)                0         \n",
      "_________________________________________________________________\n",
      "dense_7 (Dense)              (None, 16)                816       \n",
      "_________________________________________________________________\n",
      "dropout_3 (Dropout)          (None, 16)                0         \n",
      "_________________________________________________________________\n",
      "dense_8 (Dense)              (None, 6)                 102       \n",
      "=================================================================\n",
      "Total params: 909,168\n",
      "Trainable params: 909,168\n",
      "Non-trainable params: 0\n",
      "_________________________________________________________________\n"
     ]
    }
   ],
   "source": [
    "embedding_dim = 50\n",
    "\n",
    "model4 = Sequential()\n",
    "model4.add(Embedding(input_dim=vocab_size, output_dim=embedding_dim, input_length=maxlen))\n",
    "model4.add(GlobalMaxPool1D())\n",
    "model4.add(Dropout(0.2))\n",
    "model4.add(Dense(16, activation='relu'))\n",
    "model4.add(Dropout(0.2))\n",
    "model4.add(Dense(6, activation='softmax'))\n",
    "\n",
    "model4.compile(optimizer='adam',\n",
    "               loss='categorical_crossentropy',\n",
    "               metrics=['accuracy'])\n",
    "\n",
    "model4.summary()"
   ]
  },
  {
   "cell_type": "code",
   "execution_count": 23,
   "id": "aca5a1e3",
   "metadata": {},
   "outputs": [
    {
     "name": "stdout",
     "output_type": "stream",
     "text": [
      "Train on 7548 samples, validate on 2517 samples\n",
      "Epoch 1/15\n",
      "7548/7548 [==============================] - 5s 660us/step - loss: 1.5034 - accuracy: 0.4634 - val_loss: 1.3013 - val_accuracy: 0.4919\n",
      "Epoch 2/15\n",
      "7548/7548 [==============================] - 4s 592us/step - loss: 1.1459 - accuracy: 0.5768 - val_loss: 0.9442 - val_accuracy: 0.6861\n",
      "Epoch 3/15\n",
      "7548/7548 [==============================] - 4s 588us/step - loss: 0.8661 - accuracy: 0.7091 - val_loss: 0.7767 - val_accuracy: 0.7449\n",
      "Epoch 4/15\n",
      "7548/7548 [==============================] - 4s 590us/step - loss: 0.7254 - accuracy: 0.7597 - val_loss: 0.7208 - val_accuracy: 0.7533\n",
      "Epoch 5/15\n",
      "7548/7548 [==============================] - 4s 594us/step - loss: 0.6487 - accuracy: 0.7825 - val_loss: 0.6992 - val_accuracy: 0.7561\n",
      "Epoch 6/15\n",
      "7548/7548 [==============================] - 4s 594us/step - loss: 0.5925 - accuracy: 0.8003 - val_loss: 0.6951 - val_accuracy: 0.7620\n",
      "Epoch 7/15\n",
      "7548/7548 [==============================] - 4s 596us/step - loss: 0.5538 - accuracy: 0.8101 - val_loss: 0.6910 - val_accuracy: 0.7644\n",
      "Epoch 8/15\n",
      "7548/7548 [==============================] - 4s 590us/step - loss: 0.5204 - accuracy: 0.8262 - val_loss: 0.6997 - val_accuracy: 0.7668\n",
      "Epoch 9/15\n",
      "7548/7548 [==============================] - 4s 590us/step - loss: 0.4899 - accuracy: 0.8319 - val_loss: 0.7032 - val_accuracy: 0.7720\n",
      "Epoch 10/15\n",
      "7548/7548 [==============================] - 4s 595us/step - loss: 0.4715 - accuracy: 0.8392 - val_loss: 0.7155 - val_accuracy: 0.7680\n",
      "Epoch 11/15\n",
      "7548/7548 [==============================] - 4s 590us/step - loss: 0.4454 - accuracy: 0.8474 - val_loss: 0.7248 - val_accuracy: 0.7684\n",
      "Epoch 12/15\n",
      "7548/7548 [==============================] - 4s 595us/step - loss: 0.4317 - accuracy: 0.8552 - val_loss: 0.7345 - val_accuracy: 0.7716\n",
      "Epoch 13/15\n",
      "7548/7548 [==============================] - 4s 594us/step - loss: 0.4044 - accuracy: 0.8604 - val_loss: 0.7481 - val_accuracy: 0.7688\n",
      "Epoch 14/15\n",
      "7548/7548 [==============================] - 4s 582us/step - loss: 0.3918 - accuracy: 0.8707 - val_loss: 0.7575 - val_accuracy: 0.7708\n",
      "Epoch 15/15\n",
      "7548/7548 [==============================] - 4s 583us/step - loss: 0.3740 - accuracy: 0.8704 - val_loss: 0.7777 - val_accuracy: 0.7747\n"
     ]
    }
   ],
   "source": [
    "history_4 = model4.fit(X_train, y_train,\n",
    "                       batch_size=32,\n",
    "                       epochs=15,\n",
    "                       validation_data=(X_test, y_test))"
   ]
  },
  {
   "cell_type": "code",
   "execution_count": 24,
   "id": "01a91485",
   "metadata": {},
   "outputs": [
    {
     "name": "stdout",
     "output_type": "stream",
     "text": [
      "Training Accuracy: 0.9277\n",
      "Testing Accuracy:  0.7747\n"
     ]
    }
   ],
   "source": [
    "loss, accuracy = model4.evaluate(X_train, y_train, verbose=False)\n",
    "print(\"Training Accuracy: {:.4f}\".format(accuracy))\n",
    "loss, accuracy = model4.evaluate(X_test, y_test, verbose=False)\n",
    "print(\"Testing Accuracy:  {:.4f}\".format(accuracy))"
   ]
  },
  {
   "cell_type": "code",
   "execution_count": 25,
   "id": "ba30880e",
   "metadata": {},
   "outputs": [
    {
     "data": {
      "image/png": "[encoded data removed]",
      "text/plain": [
       "<Figure size 432x288 with 1 Axes>"
      ]
     },
     "metadata": {
      "needs_background": "light"
     },
     "output_type": "display_data"
    },
    {
     "data": {
      "image/png": "[encoded data removed]",
      "text/plain": [
       "<Figure size 432x288 with 1 Axes>"
      ]
     },
     "metadata": {
      "needs_background": "light"
     },
     "output_type": "display_data"
    }
   ],
   "source": [
    "plot_graphs(history_4, \"accuracy\")\n",
    "plot_graphs(history_4, \"loss\")"
   ]
  },
  {
   "cell_type": "markdown",
   "id": "87a3edab",
   "metadata": {},
   "source": [
    "# Adding a single Convolutional layer and then comparing results"
   ]
  },
  {
   "cell_type": "code",
   "execution_count": 33,
   "id": "9d088b41",
   "metadata": {},
   "outputs": [
    {
     "name": "stdout",
     "output_type": "stream",
     "text": [
      "Model: \"sequential_6\"\n",
      "_________________________________________________________________\n",
      "Layer (type)                 Output Shape              Param #   \n",
      "=================================================================\n",
      "embedding_6 (Embedding)      (None, 100, 50)           908250    \n",
      "_________________________________________________________________\n",
      "conv1d_2 (Conv1D)            (None, 96, 128)           32128     \n",
      "_________________________________________________________________\n",
      "global_max_pooling1d_4 (Glob (None, 128)               0         \n",
      "_________________________________________________________________\n",
      "dense_11 (Dense)             (None, 10)                1290      \n",
      "_________________________________________________________________\n",
      "dense_12 (Dense)             (None, 6)                 66        \n",
      "=================================================================\n",
      "Total params: 941,734\n",
      "Trainable params: 941,734\n",
      "Non-trainable params: 0\n",
      "_________________________________________________________________\n"
     ]
    }
   ],
   "source": [
    "embedding_dim = 50\n",
    "\n",
    "model5 = Sequential()\n",
    "model5.add(Embedding(input_dim=vocab_size, output_dim=embedding_dim, input_length=maxlen))\n",
    "model5.add(Conv1D(128, 5, activation='relu'))\n",
    "model5.add(GlobalMaxPool1D())\n",
    "model5.add(Dense(10, activation='relu'))\n",
    "model5.add(Dense(6, activation='softmax'))\n",
    "\n",
    "model5.compile(optimizer='adam',\n",
    "               loss='categorical_crossentropy',\n",
    "               metrics=['accuracy'])\n",
    "\n",
    "model5.summary()"
   ]
  },
  {
   "cell_type": "code",
   "execution_count": 34,
   "id": "dc7e1fad",
   "metadata": {},
   "outputs": [
    {
     "name": "stdout",
     "output_type": "stream",
     "text": [
      "Train on 7548 samples, validate on 2517 samples\n",
      "Epoch 1/15\n",
      "7548/7548 [==============================] - 8s 1ms/step - loss: 1.2745 - accuracy: 0.5041 - val_loss: 0.9218 - val_accuracy: 0.6587\n",
      "Epoch 2/15\n",
      "7548/7548 [==============================] - 7s 972us/step - loss: 0.7392 - accuracy: 0.7158 - val_loss: 0.7187 - val_accuracy: 0.7505\n",
      "Epoch 3/15\n",
      "7548/7548 [==============================] - 7s 973us/step - loss: 0.5442 - accuracy: 0.8062 - val_loss: 0.6743 - val_accuracy: 0.7672\n",
      "Epoch 4/15\n",
      "7548/7548 [==============================] - 7s 964us/step - loss: 0.4553 - accuracy: 0.8389 - val_loss: 0.6879 - val_accuracy: 0.7660\n",
      "Epoch 5/15\n",
      "7548/7548 [==============================] - 7s 936us/step - loss: 0.3918 - accuracy: 0.8637 - val_loss: 0.7280 - val_accuracy: 0.7600\n",
      "Epoch 6/15\n",
      "7548/7548 [==============================] - 7s 932us/step - loss: 0.3392 - accuracy: 0.8849 - val_loss: 0.7758 - val_accuracy: 0.7573\n",
      "Epoch 7/15\n",
      "7548/7548 [==============================] - 7s 933us/step - loss: 0.2906 - accuracy: 0.9038 - val_loss: 0.8278 - val_accuracy: 0.7525\n",
      "Epoch 8/15\n",
      "7548/7548 [==============================] - 7s 929us/step - loss: 0.2459 - accuracy: 0.9191 - val_loss: 0.8876 - val_accuracy: 0.7580\n",
      "Epoch 9/15\n",
      "7548/7548 [==============================] - 7s 944us/step - loss: 0.2071 - accuracy: 0.9352 - val_loss: 0.9594 - val_accuracy: 0.7596\n",
      "Epoch 10/15\n",
      "7548/7548 [==============================] - 7s 937us/step - loss: 0.1702 - accuracy: 0.9473 - val_loss: 1.0334 - val_accuracy: 0.7501\n",
      "Epoch 11/15\n",
      "7548/7548 [==============================] - 7s 941us/step - loss: 0.1417 - accuracy: 0.9596 - val_loss: 1.1038 - val_accuracy: 0.7553\n",
      "Epoch 12/15\n",
      "7548/7548 [==============================] - 7s 918us/step - loss: 0.1176 - accuracy: 0.9652 - val_loss: 1.1797 - val_accuracy: 0.7485\n",
      "Epoch 13/15\n",
      "7548/7548 [==============================] - 7s 940us/step - loss: 0.1012 - accuracy: 0.9702 - val_loss: 1.2749 - val_accuracy: 0.7410\n",
      "Epoch 14/15\n",
      "7548/7548 [==============================] - 7s 960us/step - loss: 0.0854 - accuracy: 0.9732 - val_loss: 1.3396 - val_accuracy: 0.7370\n",
      "Epoch 15/15\n",
      "7548/7548 [==============================] - 7s 947us/step - loss: 0.0730 - accuracy: 0.9780 - val_loss: 1.4132 - val_accuracy: 0.7382\n"
     ]
    }
   ],
   "source": [
    "history_5 = model5.fit(X_train, y_train,\n",
    "                       batch_size=32,\n",
    "                       epochs=15,\n",
    "                       validation_data=(X_test, y_test))"
   ]
  },
  {
   "cell_type": "code",
   "execution_count": 35,
   "id": "63e0c98d",
   "metadata": {},
   "outputs": [
    {
     "name": "stdout",
     "output_type": "stream",
     "text": [
      "Training Accuracy: 0.9815\n",
      "Testing Accuracy:  0.7382\n"
     ]
    }
   ],
   "source": [
    "loss, accuracy = model5.evaluate(X_train, y_train, verbose=False)\n",
    "print(\"Training Accuracy: {:.4f}\".format(accuracy))\n",
    "loss, accuracy = model5.evaluate(X_test, y_test, verbose=False)\n",
    "print(\"Testing Accuracy:  {:.4f}\".format(accuracy))"
   ]
  },
  {
   "cell_type": "code",
   "execution_count": 36,
   "id": "2ffc17d7",
   "metadata": {},
   "outputs": [
    {
     "data": {
      "image/png": "[encoded data removed]",
      "text/plain": [
       "<Figure size 432x288 with 1 Axes>"
      ]
     },
     "metadata": {
      "needs_background": "light"
     },
     "output_type": "display_data"
    },
    {
     "data": {
      "image/png": "[encoded data removed]",
      "text/plain": [
       "<Figure size 432x288 with 1 Axes>"
      ]
     },
     "metadata": {
      "needs_background": "light"
     },
     "output_type": "display_data"
    }
   ],
   "source": [
    "plot_graphs(history_5, \"accuracy\")\n",
    "plot_graphs(history_5, \"loss\")"
   ]
  },
  {
   "cell_type": "markdown",
   "id": "7132cfde",
   "metadata": {},
   "source": [
    "# Doing validation on test dataset using reverse mapping from name to id and finally saving the results in a csv file "
   ]
  },
  {
   "cell_type": "code",
   "execution_count": 56,
   "id": "f1ddbbd7",
   "metadata": {},
   "outputs": [],
   "source": [
    "df2 = pd.read_csv('../Zycus/86b13d9a4b8e11ec/project/testing_data.csv')\n",
    "toPredictSentences =df2['title']"
   ]
  },
  {
   "cell_type": "code",
   "execution_count": 57,
   "id": "c80ba1e1",
   "metadata": {},
   "outputs": [],
   "source": [
    "X_validate = tokenize.texts_to_sequences(toPredictSentences)"
   ]
  },
  {
   "cell_type": "code",
   "execution_count": 58,
   "id": "a779efc6",
   "metadata": {},
   "outputs": [],
   "source": [
    "X_validate = pad_sequences(X_validate, padding='post', maxlen=maxlen)"
   ]
  },
  {
   "cell_type": "code",
   "execution_count": 59,
   "id": "dc508f08",
   "metadata": {},
   "outputs": [],
   "source": [
    "y_validate = model4.predict(X_validate)"
   ]
  },
  {
   "cell_type": "code",
   "execution_count": 60,
   "id": "3a43e09c",
   "metadata": {},
   "outputs": [
    {
     "data": {
      "text/plain": [
       "array([[1.90162414e-03, 2.70509569e-04, 7.91086733e-01, 2.78029200e-02,\n",
       "        1.19895572e-02, 1.66948691e-01],\n",
       "       [1.42003326e-02, 6.17269337e-01, 1.45750687e-01, 3.43052447e-02,\n",
       "        1.85750768e-01, 2.72360677e-03],\n",
       "       [1.44271075e-06, 9.91940975e-01, 1.67256547e-03, 1.42852205e-05,\n",
       "        6.37074048e-03, 4.51010962e-09],\n",
       "       ...,\n",
       "       [8.47922266e-03, 8.31211160e-04, 1.57263910e-03, 6.10987432e-02,\n",
       "        9.21987474e-01, 6.03072159e-03],\n",
       "       [4.91085617e-10, 4.55267184e-08, 9.99996066e-01, 1.65026776e-07,\n",
       "        2.03951203e-07, 3.53582891e-06],\n",
       "       [2.55423720e-06, 9.89786386e-01, 1.34400360e-03, 2.65497238e-05,\n",
       "        8.84036347e-03, 5.22699040e-09]], dtype=float32)"
      ]
     },
     "execution_count": 60,
     "metadata": {},
     "output_type": "execute_result"
    }
   ],
   "source": [
    "y_validate"
   ]
  },
  {
   "cell_type": "code",
   "execution_count": 61,
   "id": "23612d6e",
   "metadata": {},
   "outputs": [
    {
     "name": "stdout",
     "output_type": "stream",
     "text": [
      "{'Electronics': 0, 'Grocery & Gourmet Food': 1, 'Home & Kitchen': 2, 'Industrial & Scientific': 3, 'Office Products': 4, 'Tools & Home Improvement': 5}\n",
      "{0: 'Electronics', 1: 'Grocery & Gourmet Food', 2: 'Home & Kitchen', 3: 'Industrial & Scientific', 4: 'Office Products', 5: 'Tools & Home Improvement'}\n"
     ]
    }
   ],
   "source": [
    "integer_mapping = {l: i for i, l in enumerate(encoder.classes_)}\n",
    "print(integer_mapping)\n",
    "reverse_mapping = {i: l for i, l in enumerate(encoder.classes_)}\n",
    "print(reverse_mapping)"
   ]
  },
  {
   "cell_type": "code",
   "execution_count": 62,
   "id": "bcf1287f",
   "metadata": {},
   "outputs": [
    {
     "name": "stdout",
     "output_type": "stream",
     "text": [
      "['Home & Kitchen', 'Grocery & Gourmet Food', 'Grocery & Gourmet Food', 'Home & Kitchen', 'Tools & Home Improvement', 'Grocery & Gourmet Food', 'Office Products', 'Tools & Home Improvement', 'Grocery & Gourmet Food', 'Home & Kitchen']\n"
     ]
    }
   ],
   "source": [
    "actual_results = [reverse_mapping[np.argmax(y_validate[i])] for i in range(len(y_validate))]\n",
    "print(actual_results[:10])"
   ]
  },
  {
   "cell_type": "code",
   "execution_count": 63,
   "id": "af573735",
   "metadata": {},
   "outputs": [
    {
     "data": {
      "text/html": [
       "<div>\n",
       "<style scoped>\n",
       "    .dataframe tbody tr th:only-of-type {\n",
       "        vertical-align: middle;\n",
       "    }\n",
       "\n",
       "    .dataframe tbody tr th {\n",
       "        vertical-align: top;\n",
       "    }\n",
       "\n",
       "    .dataframe thead th {\n",
       "        text-align: right;\n",
       "    }\n",
       "</style>\n",
       "<table border=\"1\" class=\"dataframe\">\n",
       "  <thead>\n",
       "    <tr style=\"text-align: right;\">\n",
       "      <th></th>\n",
       "      <th>predicted</th>\n",
       "    </tr>\n",
       "  </thead>\n",
       "  <tbody>\n",
       "    <tr>\n",
       "      <th>0</th>\n",
       "      <td>Home &amp; Kitchen</td>\n",
       "    </tr>\n",
       "    <tr>\n",
       "      <th>1</th>\n",
       "      <td>Grocery &amp; Gourmet Food</td>\n",
       "    </tr>\n",
       "    <tr>\n",
       "      <th>2</th>\n",
       "      <td>Grocery &amp; Gourmet Food</td>\n",
       "    </tr>\n",
       "    <tr>\n",
       "      <th>3</th>\n",
       "      <td>Home &amp; Kitchen</td>\n",
       "    </tr>\n",
       "    <tr>\n",
       "      <th>4</th>\n",
       "      <td>Tools &amp; Home Improvement</td>\n",
       "    </tr>\n",
       "    <tr>\n",
       "      <th>5</th>\n",
       "      <td>Grocery &amp; Gourmet Food</td>\n",
       "    </tr>\n",
       "    <tr>\n",
       "      <th>6</th>\n",
       "      <td>Office Products</td>\n",
       "    </tr>\n",
       "    <tr>\n",
       "      <th>7</th>\n",
       "      <td>Tools &amp; Home Improvement</td>\n",
       "    </tr>\n",
       "    <tr>\n",
       "      <th>8</th>\n",
       "      <td>Grocery &amp; Gourmet Food</td>\n",
       "    </tr>\n",
       "    <tr>\n",
       "      <th>9</th>\n",
       "      <td>Home &amp; Kitchen</td>\n",
       "    </tr>\n",
       "    <tr>\n",
       "      <th>10</th>\n",
       "      <td>Office Products</td>\n",
       "    </tr>\n",
       "    <tr>\n",
       "      <th>11</th>\n",
       "      <td>Home &amp; Kitchen</td>\n",
       "    </tr>\n",
       "    <tr>\n",
       "      <th>12</th>\n",
       "      <td>Home &amp; Kitchen</td>\n",
       "    </tr>\n",
       "    <tr>\n",
       "      <th>13</th>\n",
       "      <td>Home &amp; Kitchen</td>\n",
       "    </tr>\n",
       "    <tr>\n",
       "      <th>14</th>\n",
       "      <td>Home &amp; Kitchen</td>\n",
       "    </tr>\n",
       "    <tr>\n",
       "      <th>15</th>\n",
       "      <td>Home &amp; Kitchen</td>\n",
       "    </tr>\n",
       "    <tr>\n",
       "      <th>16</th>\n",
       "      <td>Home &amp; Kitchen</td>\n",
       "    </tr>\n",
       "    <tr>\n",
       "      <th>17</th>\n",
       "      <td>Office Products</td>\n",
       "    </tr>\n",
       "    <tr>\n",
       "      <th>18</th>\n",
       "      <td>Home &amp; Kitchen</td>\n",
       "    </tr>\n",
       "    <tr>\n",
       "      <th>19</th>\n",
       "      <td>Grocery &amp; Gourmet Food</td>\n",
       "    </tr>\n",
       "  </tbody>\n",
       "</table>\n",
       "</div>"
      ],
      "text/plain": [
       "                   predicted\n",
       "0             Home & Kitchen\n",
       "1     Grocery & Gourmet Food\n",
       "2     Grocery & Gourmet Food\n",
       "3             Home & Kitchen\n",
       "4   Tools & Home Improvement\n",
       "5     Grocery & Gourmet Food\n",
       "6            Office Products\n",
       "7   Tools & Home Improvement\n",
       "8     Grocery & Gourmet Food\n",
       "9             Home & Kitchen\n",
       "10           Office Products\n",
       "11            Home & Kitchen\n",
       "12            Home & Kitchen\n",
       "13            Home & Kitchen\n",
       "14            Home & Kitchen\n",
       "15            Home & Kitchen\n",
       "16            Home & Kitchen\n",
       "17           Office Products\n",
       "18            Home & Kitchen\n",
       "19    Grocery & Gourmet Food"
      ]
     },
     "execution_count": 63,
     "metadata": {},
     "output_type": "execute_result"
    }
   ],
   "source": [
    "results=pd.DataFrame(data={'predicted':actual_results})\n",
    "results.head(20)"
   ]
  },
  {
   "cell_type": "code",
   "execution_count": 64,
   "id": "7f531666",
   "metadata": {},
   "outputs": [],
   "source": [
    "df2['category']=actual_results"
   ]
  },
  {
   "cell_type": "code",
   "execution_count": 65,
   "id": "003ba022",
   "metadata": {},
   "outputs": [
    {
     "data": {
      "text/html": [
       "<div>\n",
       "<style scoped>\n",
       "    .dataframe tbody tr th:only-of-type {\n",
       "        vertical-align: middle;\n",
       "    }\n",
       "\n",
       "    .dataframe tbody tr th {\n",
       "        vertical-align: top;\n",
       "    }\n",
       "\n",
       "    .dataframe thead th {\n",
       "        text-align: right;\n",
       "    }\n",
       "</style>\n",
       "<table border=\"1\" class=\"dataframe\">\n",
       "  <thead>\n",
       "    <tr style=\"text-align: right;\">\n",
       "      <th></th>\n",
       "      <th>title</th>\n",
       "      <th>category</th>\n",
       "    </tr>\n",
       "  </thead>\n",
       "  <tbody>\n",
       "    <tr>\n",
       "      <th>0</th>\n",
       "      <td>Pom Pom Hair Band Rabbit Light Grey Decorative...</td>\n",
       "      <td>Home &amp; Kitchen</td>\n",
       "    </tr>\n",
       "    <tr>\n",
       "      <th>1</th>\n",
       "      <td>Mariposa Golf Ball Napkin Weight</td>\n",
       "      <td>Grocery &amp; Gourmet Food</td>\n",
       "    </tr>\n",
       "    <tr>\n",
       "      <th>2</th>\n",
       "      <td>Mediterranean Snack Food Roasted Garlic Hummuz...</td>\n",
       "      <td>Grocery &amp; Gourmet Food</td>\n",
       "    </tr>\n",
       "    <tr>\n",
       "      <th>3</th>\n",
       "      <td>John Deere 0071750GX22269 Genuine Original Equ...</td>\n",
       "      <td>Home &amp; Kitchen</td>\n",
       "    </tr>\n",
       "    <tr>\n",
       "      <th>4</th>\n",
       "      <td>Protech Wood Cleanr Gl,PERFORMANCE COATINGS IN...</td>\n",
       "      <td>Tools &amp; Home Improvement</td>\n",
       "    </tr>\n",
       "    <tr>\n",
       "      <th>5</th>\n",
       "      <td>tic tac Holiday Candy Cane and Cherry Apple Tw...</td>\n",
       "      <td>Grocery &amp; Gourmet Food</td>\n",
       "    </tr>\n",
       "    <tr>\n",
       "      <th>6</th>\n",
       "      <td>DENIED Red Office Stock Self-Inking Rubber Stamp</td>\n",
       "      <td>Office Products</td>\n",
       "    </tr>\n",
       "    <tr>\n",
       "      <th>7</th>\n",
       "      <td>Replacement Message Board Face with Tracks for...</td>\n",
       "      <td>Tools &amp; Home Improvement</td>\n",
       "    </tr>\n",
       "    <tr>\n",
       "      <th>8</th>\n",
       "      <td>Bundle - 3 Items: Sweet Baby Ray's Buffalo Win...</td>\n",
       "      <td>Grocery &amp; Gourmet Food</td>\n",
       "    </tr>\n",
       "    <tr>\n",
       "      <th>9</th>\n",
       "      <td>BravoVision Fashion Custom Chicago Scenery Wat...</td>\n",
       "      <td>Home &amp; Kitchen</td>\n",
       "    </tr>\n",
       "  </tbody>\n",
       "</table>\n",
       "</div>"
      ],
      "text/plain": [
       "                                               title                  category\n",
       "0  Pom Pom Hair Band Rabbit Light Grey Decorative...            Home & Kitchen\n",
       "1                   Mariposa Golf Ball Napkin Weight    Grocery & Gourmet Food\n",
       "2  Mediterranean Snack Food Roasted Garlic Hummuz...    Grocery & Gourmet Food\n",
       "3  John Deere 0071750GX22269 Genuine Original Equ...            Home & Kitchen\n",
       "4  Protech Wood Cleanr Gl,PERFORMANCE COATINGS IN...  Tools & Home Improvement\n",
       "5  tic tac Holiday Candy Cane and Cherry Apple Tw...    Grocery & Gourmet Food\n",
       "6   DENIED Red Office Stock Self-Inking Rubber Stamp           Office Products\n",
       "7  Replacement Message Board Face with Tracks for...  Tools & Home Improvement\n",
       "8  Bundle - 3 Items: Sweet Baby Ray's Buffalo Win...    Grocery & Gourmet Food\n",
       "9  BravoVision Fashion Custom Chicago Scenery Wat...            Home & Kitchen"
      ]
     },
     "execution_count": 65,
     "metadata": {},
     "output_type": "execute_result"
    }
   ],
   "source": [
    "df2.head(10)"
   ]
  },
  {
   "cell_type": "code",
   "execution_count": 66,
   "id": "bad9e54b",
   "metadata": {},
   "outputs": [],
   "source": [
    "df2.to_csv(\"finalOutcones.csv\")"
   ]
  },
  {
   "cell_type": "code",
   "execution_count": null,
   "id": "623b84c4",
   "metadata": {},
   "outputs": [],
   "source": []
  }
 ],
 "metadata": {
  "kernelspec": {
   "display_name": "Python 3",
   "language": "python",
   "name": "python3"
  },
  "language_info": {
   "codemirror_mode": {
    "name": "ipython",
    "version": 3
   },
   "file_extension": ".py",
   "mimetype": "text/x-python",
   "name": "python",
   "nbconvert_exporter": "python",
   "pygments_lexer": "ipython3",
   "version": "3.6.13"
  }
 },
 "nbformat": 4,
 "nbformat_minor": 5
}
